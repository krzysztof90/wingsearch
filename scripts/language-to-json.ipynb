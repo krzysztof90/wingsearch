{
 "cells": [
  {
   "cell_type": "code",
   "execution_count": 1,
   "metadata": {},
   "outputs": [],
   "source": [
    "import pandas as pd\n",
    "import simplejson\n",
    "import os\n",
    "import re"
   ]
  },
  {
   "cell_type": "code",
   "execution_count": 2,
   "metadata": {},
   "outputs": [],
   "source": [
    "i18n_folder = '../i18n'\n",
    "files = [os.path.join(i18n_folder, file) for file in os.listdir(i18n_folder) if file.endswith('.xlsx') and not file.startswith('template')]"
   ]
  },
  {
   "cell_type": "code",
   "execution_count": 3,
   "metadata": {},
   "outputs": [],
   "source": [
    "for file in files:\n",
    "    birds = pd.read_excel(file, sheet_name='Birds', index_col=0).drop(columns=\"Expansion\").to_dict(orient='index')\n",
    "    bonuses = pd.read_excel(file, sheet_name='Bonuses', index_col=0).drop(columns=\"Expansion\").to_dict(orient='index')\n",
    "    goals = pd.read_excel(file, sheet_name='Goals', index_col=0).drop(columns=\"Expansion\").to_dict(orient='index')\n",
    "    other = pd.read_excel(file, sheet_name='Other', index_col=0).to_dict(orient='index')\n",
    "    parameters = pd.read_excel(file, sheet_name='Parameters', index_col=0).to_dict(orient='index')\n",
    "\n",
    "    result = {'birds': birds, 'bonuses': bonuses, 'goals': goals, 'other': other, 'parameters': parameters}\n",
    "    result_folder = '../src/assets/data/i18n'\n",
    "    json_file = re.search(r'[\\w]+\\.xlsx', file).group().replace('.xlsx', '.json')\n",
    "\n",
    "    if not os.path.exists(result_folder):\n",
    "        os.makedirs(result_folder)\n",
    "\n",
    "    with open(os.path.join(result_folder, json_file), 'w') as fp:\n",
    "        simplejson.dump(result, fp, ignore_nan=True)"
   ]
  }
 ],
 "metadata": {
  "kernelspec": {
   "display_name": "Python 3.8.8 ('base')",
   "language": "python",
   "name": "python3"
  },
  "language_info": {
   "codemirror_mode": {
    "name": "ipython",
    "version": 3
   },
   "file_extension": ".py",
   "mimetype": "text/x-python",
   "name": "python",
   "nbconvert_exporter": "python",
   "pygments_lexer": "ipython3",
   "version": "3.11.5"
  },
  "orig_nbformat": 2,
  "vscode": {
   "interpreter": {
    "hash": "310f68d2470ceb9abe8e24772c64717a7b2a7b5f8a20048025d97bcfbdb38133"
   }
  }
 },
 "nbformat": 4,
 "nbformat_minor": 2
}
